{
 "cells": [
  {
   "cell_type": "code",
   "execution_count": 22,
   "id": "difficult-average",
   "metadata": {},
   "outputs": [
    {
     "name": "stdout",
     "output_type": "stream",
     "text": [
      "Discuss your learnings in Chapter 9\n",
      "My learnings in Chapter 9 are: \n",
      "In this chapter I learn about the graph. And I also learn about the types of graph which the Undirected Graph,\n",
      "Directed Graph and the Weighted Graph. First is the Undirected Graph and it means it has no direction between \n",
      "two nodes and he example in the video he and his brother and his brothers own connection that makes the graph \n",
      "complicated. Next is the Directed Graph which means has a direction between two nodes. And the example that he\n",
      "use is the flight route. I also learn about the difference of a graph and a tree. Tree means that there should\n",
      "be only one path between two nodes. Next is the Weighted Graph, it also used flight route as the example. Both\n",
      "the Directed Graph and Weighted Graph determine all the possible path of the given example which is the flight\n",
      "route. I also learn , watch and understand carefully the python program that he make and he use the given graph\n",
      "example for the python program. The python program that he make looks pretty easy but in reality, it's hard a \n",
      "little. So while watching the video I pratice it on my computer and trying to make own graph and python program\n",
      "and use this video as an reference or guide.\n"
     ]
    }
   ],
   "source": [
    "print(\"Discuss your learnings in Chapter 9\")\n",
    "\n",
    "print(\"My learnings in Chapter 9 are: \")\n",
    "print(\"In this chapter I learn about the graph. And I also learn about the types of graph which the Undirected Graph,\")\n",
    "print(\"Directed Graph and the Weighted Graph. First is the Undirected Graph and it means it has no direction between \")\n",
    "print(\"two nodes and he example in the video he and his brother and his brothers own connection that makes the graph \")\n",
    "print(\"complicated. Next is the Directed Graph which means has a direction between two nodes. And the example that he\")\n",
    "print(\"use is the flight route. I also learn about the difference of a graph and a tree. Tree means that there should\")\n",
    "print(\"be only one path between two nodes. Next is the Weighted Graph, it also used flight route as the example. Both\")\n",
    "print(\"the Directed Graph and Weighted Graph determine all the possible path of the given example which is the flight\")\n",
    "print(\"route. I also learn , watch and understand carefully the python program that he make and he use the given graph\")\n",
    "print(\"example for the python program. The python program that he make looks pretty easy but in reality, it's hard a \")\n",
    "print(\"little. So while watching the video I pratice it on my computer and trying to make own graph and python program\")\n",
    "print(\"and use this video as an reference or guide.\")"
   ]
  },
  {
   "cell_type": "code",
   "execution_count": 21,
   "id": "verified-printing",
   "metadata": {},
   "outputs": [
    {
     "name": "stdout",
     "output_type": "stream",
     "text": [
      "Discuss your learnings in Chapter 10\n",
      "My learnings in Chapter 10 are: \n",
      "In this chapter I learn about the binary search. It is very useful in data structures in python program. He\n",
      "give a list of numbers and indexes and use it to his example. In his first example I watch carefully how to\n",
      "search and identify which index the number is belong in. He also used it as an example in real life like in\n",
      "an electronic store which searching for the device id. I also create my binary search and follow what he is\n",
      "doing. I also learn about the linear search. And I also learn that binary search works on the concept of sorted\n",
      "list. He also show how to search a number in a way without finding the iteration using a technique and that\n",
      "technique is to compare the middle number to the number you want search and discarded all the numbers from\n",
      "middle to the right and it is called the binary search. I also learn that in binary search in every iteration\n",
      "your are dividing your search space into two. After that, I watch the python program that he make using the\n",
      "given example that he make in the intro of the video. I also try the exercise provide at the end of the video\n",
      "but still trying.\n"
     ]
    }
   ],
   "source": [
    "print(\"Discuss your learnings in Chapter 10\")\n",
    "\n",
    "print(\"My learnings in Chapter 10 are: \")\n",
    "print(\"In this chapter I learn about the binary search. It is very useful in data structures in python program. He\")\n",
    "print(\"give a list of numbers and indexes and use it to his example. In his first example I watch carefully how to\")\n",
    "print(\"search and identify which index the number is belong in. He also used it as an example in real life like in\")\n",
    "print(\"an electronic store which searching for the device id. I also create my binary search and follow what he is\")\n",
    "print(\"doing. I also learn about the linear search. And I also learn that binary search works on the concept of sorted\")\n",
    "print(\"list. He also show how to search a number in a way without finding the iteration using a technique and that\")\n",
    "print(\"technique is to compare the middle number to the number you want search and discarded all the numbers from\")\n",
    "print(\"middle to the right and it is called the binary search. I also learn that in binary search in every iteration\")\n",
    "print(\"your are dividing your search space into two. After that, I watch the python program that he make using the\")\n",
    "print(\"given example that he make in the intro of the video. I also try the exercise provide at the end of the video\")\n",
    "print(\"but still trying.\")"
   ]
  },
  {
   "cell_type": "code",
   "execution_count": 20,
   "id": "designed-argument",
   "metadata": {},
   "outputs": [
    {
     "name": "stdout",
     "output_type": "stream",
     "text": [
      "Discuss your learnings in Chapter 11\n",
      "My learnings in Chapter 11 are: \n",
      "In this chapter I learn about the bubble sort and its importance. I learn that sorting is need when building a system.\n",
      "I also learn that sorting is common use case when doing software development. Once again he used a list of numbers as \n",
      "an example. The example begins by comparing the first two numbers and if the first number is greater than the second  \n",
      "number then swap the first number to the second number and do the same process to the rest of the numbers. And he also\n",
      "refered this to the real life bubble that the bubble comes from button to the top just like what he did to the numbers\n",
      "I also learn that we can take two utive numbers and then compare and when the first number is greater than the second \n",
      "number then we can just swap them. When the python program that he make I watch it carefully as I go along trying to \n",
      "understand it. And the example that he gave in the intro of the video is used in his python program. First he do in \n",
      "the python prgoram is to find the size of the elements. While watching his program I also practice it on my computer\n",
      "and follow what he do in his program. And after watching his program, he provided a problem at the end of the video \n",
      "for the watchers to answer and I try to answer it and while answering it I rewind the video so that I have a reference.\n"
     ]
    }
   ],
   "source": [
    "print(\"Discuss your learnings in Chapter 11\")\n",
    "\n",
    "print(\"My learnings in Chapter 11 are: \")\n",
    "print(\"In this chapter I learn about the bubble sort and its importance. I learn that sorting is need when building a system.\")\n",
    "print(\"I also learn that sorting is common use case when doing software development. Once again he used a list of numbers as \")\n",
    "print(\"an example. The example begins by comparing the first two numbers and if the first number is greater than the second  \")\n",
    "print(\"number then swap the first number to the second number and do the same process to the rest of the numbers. And he also\")\n",
    "print(\"refered this to the real life bubble that the bubble comes from button to the top just like what he did to the numbers\")\n",
    "print(\"I also learn that we can take two utive numbers and then compare and when the first number is greater than the second \")\n",
    "print(\"number then we can just swap them. When the python program that he make I watch it carefully as I go along trying to \")\n",
    "print(\"understand it. And the example that he gave in the intro of the video is used in his python program. First he do in \")\n",
    "print(\"the python prgoram is to find the size of the elements. While watching his program I also practice it on my computer\")\n",
    "print(\"and follow what he do in his program. And after watching his program, he provided a problem at the end of the video \")\n",
    "print(\"for the watchers to answer and I try to answer it and while answering it I rewind the video so that I have a reference.\")"
   ]
  },
  {
   "cell_type": "code",
   "execution_count": 19,
   "id": "renewable-direction",
   "metadata": {},
   "outputs": [
    {
     "name": "stdout",
     "output_type": "stream",
     "text": [
      "Discuss your learnings in Chapter 12\n",
      "My learnings in Chapter 12 are: \n",
      "In this chapter I learn about a another type of sort which is the quick sort. Once again he used a list of numbers\n",
      "as an example and the first element in the list of numbers is called a pivot and he also try to put the first number\n",
      "or pivot in its correct place in the list. I carefully watch his example and try to get it. I learn that the process\n",
      "that he used for the example is partitioning. I also learn the two types of partition schemes which is the Hoare \n",
      "Partition and the Lomuto Partition. I also learn the meaning of Hoare Partition which is said in the video that Hoare\n",
      "is a British Scientist who invented the quick sort and his original partition schemes is more popular. While Lomuto\n",
      "Partition is that the way it works is to decide your end element as your favorite whatever is it on the left side or\n",
      "the middle or the right side. After the discussion that he makes I turn my focus once again to the python program\n",
      "that he makes. The same as last time I watch carefully and practice the python program that he makes using the \n",
      "examples that he used in the discussion like both Hoare Partition and the Lomuto Partition. I learn about how to \n",
      "code properly in this by following his intructions and use the program that he make as a reference. I also try the\n",
      "exercise in the end of the video.\n"
     ]
    }
   ],
   "source": [
    "print(\"Discuss your learnings in Chapter 12\")\n",
    "\n",
    "print(\"My learnings in Chapter 12 are: \")\n",
    "print(\"In this chapter I learn about a another type of sort which is the quick sort. Once again he used a list of numbers\")\n",
    "print(\"as an example and the first element in the list of numbers is called a pivot and he also try to put the first number\")\n",
    "print(\"or pivot in its correct place in the list. I carefully watch his example and try to get it. I learn that the process\")\n",
    "print(\"that he used for the example is partitioning. I also learn the two types of partition schemes which is the Hoare \")\n",
    "print(\"Partition and the Lomuto Partition. I also learn the meaning of Hoare Partition which is said in the video that Hoare\")\n",
    "print(\"is a British Scientist who invented the quick sort and his original partition schemes is more popular. While Lomuto\")\n",
    "print(\"Partition is that the way it works is to decide your end element as your favorite whatever is it on the left side or\")\n",
    "print(\"the middle or the right side. After the discussion that he makes I turn my focus once again to the python program\")\n",
    "print(\"that he makes. The same as last time I watch carefully and practice the python program that he makes using the \")\n",
    "print(\"examples that he used in the discussion like both Hoare Partition and the Lomuto Partition. I learn about how to \")\n",
    "print(\"code properly in this by following his intructions and use the program that he make as a reference. I also try the\")\n",
    "print(\"exercise in the end of the video.\")"
   ]
  },
  {
   "cell_type": "code",
   "execution_count": 18,
   "id": "alike-treasure",
   "metadata": {},
   "outputs": [
    {
     "name": "stdout",
     "output_type": "stream",
     "text": [
      "Discuss your learnings in Chapter 13\n",
      "My learnings in Chapter 13 are: \n",
      "In this chapter I learn about once again another type of sort is the insertion sort. The example is a unsorted array\n",
      "and try to solve this by creating a sorted array. And then transfer the first number of an array from unsorted array\n",
      "into the sorted array and it such a way it remain sorted. And I also learn that when putting the number from unsorted\n",
      "array to sorted array, the numbers in the sorted array should be in order. I also learn how to put it without using \n",
      "an extra array. In the example that he show is the same as I expected already. I also learn about the insertion sort\n",
      "meaning which is that a simple sorting algorithm that build the final sorted array one item at a time. Its is much less\n",
      "efficient on large lists than more advanced algorithms like quick, heap and merge sort. Once again after the \n",
      "discussion and given example, the video move again to the python program which he make program about examples about\n",
      "the example of insertion sort earlier in the video. The same as I do on the last video, I watch and try to \n",
      "understand the program that he make and while on the same time practice my own Python Program about insertion sort.\n",
      "And after I also try to answer the provided exercise in the end of the video.\n"
     ]
    }
   ],
   "source": [
    "print(\"Discuss your learnings in Chapter 13\")\n",
    "\n",
    "print(\"My learnings in Chapter 13 are: \")\n",
    "print(\"In this chapter I learn about once again another type of sort is the insertion sort. The example is a unsorted array\")\n",
    "print(\"and try to solve this by creating a sorted array. And then transfer the first number of an array from unsorted array\")\n",
    "print(\"into the sorted array and it such a way it remain sorted. And I also learn that when putting the number from unsorted\")\n",
    "print(\"array to sorted array, the numbers in the sorted array should be in order. I also learn how to put it without using \")\n",
    "print(\"an extra array. In the example that he show is the same as I expected already. I also learn about the insertion sort\")\n",
    "print(\"meaning which is that a simple sorting algorithm that build the final sorted array one item at a time. Its is much less\")\n",
    "print(\"efficient on large lists than more advanced algorithms like quick, heap and merge sort. Once again after the \")\n",
    "print(\"discussion and given example, the video move again to the python program which he make program about examples about\")\n",
    "print(\"the example of insertion sort earlier in the video. The same as I do on the last video, I watch and try to \")\n",
    "print(\"understand the program that he make and while on the same time practice my own Python Program about insertion sort.\")\n",
    "print(\"And after I also try to answer the provided exercise in the end of the video.\")"
   ]
  },
  {
   "cell_type": "code",
   "execution_count": 17,
   "id": "italian-finding",
   "metadata": {},
   "outputs": [
    {
     "name": "stdout",
     "output_type": "stream",
     "text": [
      "Discuss your learnings in Chapter 14\n",
      "My learnings in Chapter 14 are: \n",
      "in this chapter I learn about another type of sort which the merge sort. I learn that the merge sort is a popular\n",
      "and shorter algoritm. The example in the video is that he show two sorted array that he want to merge so what I \n",
      "watch it carefully so that I can understand but eventually it easy to solve just compare the numbers from lowest\n",
      "to greatest number. Next is the unsorted array, first he do is he divided into two unsorted array and then divide\n",
      "again the two unsorted array into two and divide once again until it become one element and then after that it can\n",
      "finally merge because it is now sorted. I also learn that its time complexity is o(n log n). And I also learn that\n",
      "the merge sort is also part of timsort which is a hybrid stable sorting algorithm, defined from merge sort and insertion\n",
      "sort which is designed to perform well on many kinds of real world data. Once again I carefully watch the python \n",
      "program step by step so that I don't miss a thing. Like I do in the last video while watching I practice it until\n",
      "the end of his python program. After that I also try to answer the provided exercise in the end of the video and while\n",
      "answering I rewind his python program so that I have a reference.\n"
     ]
    }
   ],
   "source": [
    "print(\"Discuss your learnings in Chapter 14\")\n",
    "\n",
    "print(\"My learnings in Chapter 14 are: \")\n",
    "print(\"in this chapter I learn about another type of sort which the merge sort. I learn that the merge sort is a popular\")\n",
    "print(\"and shorter algoritm. The example in the video is that he show two sorted array that he want to merge so what I \")\n",
    "print(\"watch it carefully so that I can understand but eventually it easy to solve just compare the numbers from lowest\")\n",
    "print(\"to greatest number. Next is the unsorted array, first he do is he divided into two unsorted array and then divide\")\n",
    "print(\"again the two unsorted array into two and divide once again until it become one element and then after that it can\")\n",
    "print(\"finally merge because it is now sorted. I also learn that its time complexity is o(n log n). And I also learn that\")\n",
    "print(\"the merge sort is also part of timsort which is a hybrid stable sorting algorithm, defined from merge sort and insertion\")\n",
    "print(\"sort which is designed to perform well on many kinds of real world data. Once again I carefully watch the python \")\n",
    "print(\"program step by step so that I don't miss a thing. Like I do in the last video while watching I practice it until\")\n",
    "print(\"the end of his python program. After that I also try to answer the provided exercise in the end of the video and while\")\n",
    "print(\"answering I rewind his python program so that I have a reference.\")"
   ]
  },
  {
   "cell_type": "code",
   "execution_count": 16,
   "id": "german-nomination",
   "metadata": {},
   "outputs": [
    {
     "name": "stdout",
     "output_type": "stream",
     "text": [
      "Discuss your learnings in Chapter 15\n",
      "My learnings in Chapter 15 are: \n",
      "In this chapter I learn once again another type of sort which is the shell sort. I also learn that the shell sort\n",
      "is an optimization over insertion sort. In the first example is an array so he recall the insertion sort and how \n",
      "to solve it. I also learn about the issues with in insertion sort which is when small elements are towards the end\n",
      "it takes many comparison and many swaps to the numbers. In shell sort uses a gap, in the example that he show that\n",
      "he a gap of three in an array and get all the elements and create a sub array and try to sort the sub array. I also\n",
      "that by doing this it will have a lesser swaps and comparison to an array of numbers. I also learn that the start\n",
      "gap is n/2 and sort sub arrays and keep reducing gap by n/2 in and keep on sorting sub arrays until the last iteration\n",
      "should have gap is equal to one. At this point it is the same as insertion sort but with a less comparisons and swaps.\n",
      "Once again he use those example to create a python program and while watching his program I also practice on my own\n",
      "python program and try to understand what he just do. After that I try exercise in the end of the video but I have \n",
      "many errors but I dont give up that easily.\n"
     ]
    }
   ],
   "source": [
    "print(\"Discuss your learnings in Chapter 15\")\n",
    "\n",
    "print(\"My learnings in Chapter 15 are: \")\n",
    "print(\"In this chapter I learn once again another type of sort which is the shell sort. I also learn that the shell sort\")\n",
    "print(\"is an optimization over insertion sort. In the first example is an array so he recall the insertion sort and how \")\n",
    "print(\"to solve it. I also learn about the issues with in insertion sort which is when small elements are towards the end\")\n",
    "print(\"it takes many comparison and many swaps to the numbers. In shell sort uses a gap, in the example that he show that\")\n",
    "print(\"he a gap of three in an array and get all the elements and create a sub array and try to sort the sub array. I also\")\n",
    "print(\"that by doing this it will have a lesser swaps and comparison to an array of numbers. I also learn that the start\") \n",
    "print(\"gap is n/2 and sort sub arrays and keep reducing gap by n/2 in and keep on sorting sub arrays until the last iteration\")\n",
    "print(\"should have gap is equal to one. At this point it is the same as insertion sort but with a less comparisons and swaps.\")\n",
    "print(\"Once again he use those example to create a python program and while watching his program I also practice on my own\")\n",
    "print(\"python program and try to understand what he just do. After that I try exercise in the end of the video but I have \")\n",
    "print(\"many errors but I dont give up that easily.\")"
   ]
  },
  {
   "cell_type": "code",
   "execution_count": 15,
   "id": "powered-friend",
   "metadata": {},
   "outputs": [
    {
     "name": "stdout",
     "output_type": "stream",
     "text": [
      "Discuss your learnings in Chapter 16\n",
      "My learnings in Chapter 16 are: \n",
      "In this chapter I learn another type of sort which is the selection sort. I learn in the example that in the \n",
      "selection sort to solve it is to find a candidate for the first number for the array and that candidate is the\n",
      "minimum number of the list. I also learn that after finding the candidate for the first number, swap the candidate\n",
      "number to the first number and after that the first number is now sorted. I also learn that after that, you do it\n",
      "again to the following number or the second number and after all of this are repeated, the array will became a \n",
      "sorted array. I also learn that Big O Complexity is equal to 0(n2). Once again back to python program, like I did\n",
      "from the last videos, while watching his program and how he do it I practice and try to understand what he is doing\n",
      "in his program. What he do in his program is that he will find the minimum element of a array. And after that go\n",
      "to define the selection sort of the program that he make. While watching the video, sometimes I lost my focus and\n",
      "can't keep up to the program. After watching and understanding the video till the end, I also try the exercise that\n",
      "provided in the end of the video.\n"
     ]
    }
   ],
   "source": [
    "print(\"Discuss your learnings in Chapter 16\")\n",
    "\n",
    "print(\"My learnings in Chapter 16 are: \")\n",
    "print(\"In this chapter I learn another type of sort which is the selection sort. I learn in the example that in the \")\n",
    "print(\"selection sort to solve it is to find a candidate for the first number for the array and that candidate is the\")\n",
    "print(\"minimum number of the list. I also learn that after finding the candidate for the first number, swap the candidate\")\n",
    "print(\"number to the first number and after that the first number is now sorted. I also learn that after that, you do it\")\n",
    "print(\"again to the following number or the second number and after all of this are repeated, the array will became a \")\n",
    "print(\"sorted array. I also learn that Big O Complexity is equal to 0(n2). Once again back to python program, like I did\")\n",
    "print(\"from the last videos, while watching his program and how he do it I practice and try to understand what he is doing\")\n",
    "print(\"in his program. What he do in his program is that he will find the minimum element of a array. And after that go\")\n",
    "print(\"to define the selection sort of the program that he make. While watching the video, sometimes I lost my focus and\")\n",
    "print(\"can't keep up to the program. After watching and understanding the video till the end, I also try the exercise that\")\n",
    "print(\"provided in the end of the video.\")"
   ]
  },
  {
   "cell_type": "code",
   "execution_count": 14,
   "id": "cleared-sandwich",
   "metadata": {},
   "outputs": [
    {
     "name": "stdout",
     "output_type": "stream",
     "text": [
      "Discuss your learnings in Chapter 17\n",
      "My learnings in Chapter 17 are: \n",
      "In this chapter I learn about the recursion and its expalanation. So in the video he used five people waiting in a \n",
      "pizza store. The example also show that the people are getting bored so the owner of the pizza store offer them a \n",
      "bread, the first person gets one bread, the second person gets two breads and so on. It also show that they must count\n",
      "the total bread so that they will get a extra 10% discount on Pizza that they order. In order to get the total breads\n",
      "we will use plus for this. And that is called recursion. I also learn that we are just using three steps, first is \n",
      "divide big problem into small and simple problem. Second is find a base condition with simple answer and the third \n",
      "one is return base condition answer to solve all sub problems. Next is that he gave another example which five + find\n",
      "sum of numbers 1 to 4 and so on. To get this we just use the simple math which is the plus. And after the explanations\n",
      "and examples, he use it to create a python program. As always I watch it carefully and try to understand it so that\n",
      "when it comes to my own program I won't miss a thing. I practice while watching this and after that I try answering\n",
      "the exercises that is provided in the end of the video.\n"
     ]
    }
   ],
   "source": [
    "print(\"Discuss your learnings in Chapter 17\")\n",
    "\n",
    "print(\"My learnings in Chapter 17 are: \")\n",
    "print(\"In this chapter I learn about the recursion and its expalanation. So in the video he used five people waiting in a \")\n",
    "print(\"pizza store. The example also show that the people are getting bored so the owner of the pizza store offer them a \")\n",
    "print(\"bread, the first person gets one bread, the second person gets two breads and so on. It also show that they must count\")\n",
    "print(\"the total bread so that they will get a extra 10% discount on Pizza that they order. In order to get the total breads\")\n",
    "print(\"we will use plus for this. And that is called recursion. I also learn that we are just using three steps, first is \")\n",
    "print(\"divide big problem into small and simple problem. Second is find a base condition with simple answer and the third \")\n",
    "print(\"one is return base condition answer to solve all sub problems. Next is that he gave another example which five + find\")\n",
    "print(\"sum of numbers 1 to 4 and so on. To get this we just use the simple math which is the plus. And after the explanations\")\n",
    "print(\"and examples, he use it to create a python program. As always I watch it carefully and try to understand it so that\")\n",
    "print(\"when it comes to my own program I won't miss a thing. I practice while watching this and after that I try answering\")\n",
    "print(\"the exercises that is provided in the end of the video.\")"
   ]
  },
  {
   "cell_type": "code",
   "execution_count": 13,
   "id": "adaptive-moses",
   "metadata": {},
   "outputs": [
    {
     "name": "stdout",
     "output_type": "stream",
     "text": [
      "Test II - Answer the following questions: \n"
     ]
    }
   ],
   "source": [
    "print(\"Test II - Answer the following questions: \")"
   ]
  },
  {
   "cell_type": "code",
   "execution_count": 7,
   "id": "usual-update",
   "metadata": {},
   "outputs": [
    {
     "name": "stdout",
     "output_type": "stream",
     "text": [
      "1. Implement the simple methods get_num and get_den that will return the numerator and denominator of a fraction.\n",
      "Answer: \n",
      "Simple method for get_num:\n",
      "Simple method for get_den:\n"
     ]
    }
   ],
   "source": [
    "print(\"1. Implement the simple methods get_num and get_den that will return the numerator and denominator of a fraction.\")\n",
    "\n",
    "print(\"Answer: \")\n",
    "print(\"Simple method for get_num:\")\n",
    "def get_num(self):\n",
    "    return self.num\n",
    "\n",
    "print(\"Simple method for get_den:\")\n",
    "def get_den(self):\n",
    "    return self.den"
   ]
  },
  {
   "cell_type": "code",
   "execution_count": 1,
   "id": "functional-hacker",
   "metadata": {},
   "outputs": [
    {
     "name": "stdout",
     "output_type": "stream",
     "text": [
      "2. Research the __radd__ method. How does it differ from __add__? When is it used? Implement __radd__.\n",
      "Answer: \n",
      "__radd__ is only called if the left object does not have an __add__ method or that method does not know to add the two\n",
      "subject. __add__ means that we can control the result of a sum of two objects by modifying or defying by it while \n",
      "__radd__ is used when the __add__ is not present.\n",
      "Implement __radd__: \n"
     ]
    },
    {
     "data": {
      "text/plain": [
       "\"I'M SORRY.BUT I LIKE YOU.\""
      ]
     },
     "execution_count": 1,
     "metadata": {},
     "output_type": "execute_result"
    }
   ],
   "source": [
    "print(\"2. Research the __radd__ method. How does it differ from __add__? When is it used? Implement __radd__.\")\n",
    "\n",
    "print(\"Answer: \")\n",
    "print(\"__radd__ is only called if the left object does not have an __add__ method or that method does not know to add the two\")\n",
    "print(\"subject. __add__ means that we can control the result of a sum of two objects by modifying or defying by it while \")\n",
    "print(\"__radd__ is used when the __add__ is not present.\")\n",
    "\n",
    "print(\"Implement __radd__: \")\n",
    "class Upper:\n",
    "    def __init__(self, initial):\n",
    "        self.data = initial.upper()\n",
    "    def __radd__(self, other):\n",
    "        return Upper(other + self.data)\n",
    "    \n",
    "u = Upper(\"But I like you.\")\n",
    "r = (\"I'm sorry.\") + u\n",
    "\n",
    "r.data"
   ]
  },
  {
   "cell_type": "code",
   "execution_count": 2,
   "id": "clean-conversion",
   "metadata": {},
   "outputs": [
    {
     "name": "stdout",
     "output_type": "stream",
     "text": [
      "3. Research the __repr__ method. How does it differ from __str__? When is it used? Implement __repr__.\n",
      "Answer: \n",
      "__repr__ is a special method used to represent a class's objects as a string. __repr__ is called by repr() built in\n",
      "function. The differ between __repr__ and __str__ is that the __str__ is used to find the informal (readable) string\n",
      "representation of an object whereas __repr__ is used to find the official string representation of an object.\n",
      "Implement __repr__: \n"
     ]
    },
    {
     "data": {
      "text/plain": [
       "\"'violet'\""
      ]
     },
     "execution_count": 2,
     "metadata": {},
     "output_type": "execute_result"
    }
   ],
   "source": [
    "print(\"3. Research the __repr__ method. How does it differ from __str__? When is it used? Implement __repr__.\")\n",
    "\n",
    "print(\"Answer: \")\n",
    "print(\"__repr__ is a special method used to represent a class's objects as a string. __repr__ is called by repr() built in\")\n",
    "print(\"function. The differ between __repr__ and __str__ is that the __str__ is used to find the informal (readable) string\")\n",
    "print(\"representation of an object whereas __repr__ is used to find the official string representation of an object.\")\n",
    "\n",
    "print(\"Implement __repr__: \")\n",
    "class Color:\n",
    "    color = 'violet'\n",
    "    def __repr__(self):\n",
    "        return repr(self.color)\n",
    "\n",
    "v = Color()\n",
    "repr(v)"
   ]
  },
  {
   "cell_type": "code",
   "execution_count": 5,
   "id": "suitable-easter",
   "metadata": {},
   "outputs": [
    {
     "name": "stdout",
     "output_type": "stream",
     "text": [
      "4. The most simple arithmetic circuit is known as the half adder. Research the simple half-adder circuit.\n",
      "Implement this circuit.\n",
      "Answer: \n",
      "Half Adder is a type of adder, an electronic circuit that performs the addition of numbers. The half adder is able to\n",
      "add two single binary digits and provide the output plus a carrying value. It has two inputs called A and B, and two \n",
      "outputs S(sum) and C(carry).\n",
      "Implement the circuit: \n",
      "Sum =  15\n",
      "Carry =  0\n"
     ]
    }
   ],
   "source": [
    "print(\"4. The most simple arithmetic circuit is known as the half adder. Research the simple half-adder circuit.\")\n",
    "print(\"Implement this circuit.\")\n",
    "\n",
    "print(\"Answer: \")\n",
    "print(\"Half Adder is a type of adder, an electronic circuit that performs the addition of numbers. The half adder is able to\")\n",
    "print(\"add two single binary digits and provide the output plus a carrying value. It has two inputs called A and B, and two \")\n",
    "print(\"outputs S(sum) and C(carry).\")\n",
    "\n",
    "print(\"Implement the circuit: \")\n",
    "def Result(A, B):\n",
    "    Sum = A ^ B\n",
    "    Carry = A & B\n",
    "    \n",
    "    print(\"Sum = \", Sum)\n",
    "    print(\"Carry = \", Carry)\n",
    "    \n",
    "A = 10\n",
    "B = 5\n",
    "\n",
    "Result(A, B)"
   ]
  },
  {
   "cell_type": "code",
   "execution_count": 6,
   "id": "divine-cargo",
   "metadata": {},
   "outputs": [
    {
     "name": "stdout",
     "output_type": "stream",
     "text": [
      "5. Design a class to represent a playing card and another one to represent a deck of cards. Using these two classes,\n",
      "implement your favorite card game.\n",
      "Answer: \n"
     ]
    }
   ],
   "source": [
    "print(\"5. Design a class to represent a playing card and another one to represent a deck of cards. Using these two classes,\")\n",
    "print(\"implement your favorite card game.\")\n",
    "\n",
    "print(\"Answer: \")"
   ]
  },
  {
   "cell_type": "code",
   "execution_count": null,
   "id": "miniature-young",
   "metadata": {},
   "outputs": [],
   "source": [
    "print(\"6. Design and implement an experiment to do benchmark comparisons of the two queue(enqueue,dequeue\")\n",
    "print(\"implementations. What can you learn from such an experiment?\")\n",
    "\n",
    "print(\"Answer: \")\n",
    "from QueueADT import Queue\n",
    "import timeyear as ty\n",
    "import time\n",
    "\n",
    "\n",
    "def Test():\n",
    "    Q = Queue()\n",
    "    times = []\n",
    "    nums = [100, 1000, 10000, 100000]\n",
    "    for n in nums:\n",
    "        Q = Queue()\n",
    "        start = ty.timeyear.now()\n",
    "        for i in range(n):\n",
    "            Q.enqueue(i)\n",
    "        end = ty.timeyear.now()\n",
    "        elapsed = ((end - start).microseconds*100)/n\n",
    "        print(\"Enqueue for %d years: %d\" % (100, elapsed))\n",
    "\n",
    "    print (\"====================BOARDER=====================\")\n",
    "    times = []\n",
    "    for n in nums:\n",
    "        Q = Queue()\n",
    "        for i in range(n):\n",
    "            Q.enqueue(i)\n",
    "        start = ty.timeyear.now()\n",
    "        for i in range(N):\n",
    "            Q.dequeue()\n",
    "        end = ty.timeyear.now()\n",
    "        elapsed = ((end - start).microseconds*100)/n\n",
    "        print(\"Dequeue for %d years: %d\" % (100, elapsed))\n",
    "\n",
    "\n",
    "def main():\n",
    "    Test()\n",
    "\n",
    "if __name__ == '__main__':\n",
    "    main()\n",
    "\n",
    "print(\"Explanation: \")\n",
    "print(\"I learn that with this list implementation, one of the enqueue or dequeue operation would be O(n)\")\n",
    "print(\"and if we need both enqueue and dequeue operation be O(1) then we need to resort to linked list \")\n",
    "print(\"implementation of Queue.\")"
   ]
  },
  {
   "cell_type": "code",
   "execution_count": 7,
   "id": "prompt-elite",
   "metadata": {},
   "outputs": [
    {
     "name": "stdout",
     "output_type": "stream",
     "text": [
      "7. Consider a real life situation. Formulate a question and then design a simulation that can help to answer it.\n",
      "Possible situations include:\n",
      "a. Cars lined up at a car wash\n",
      "b. Customers at a grocery store check-out\n",
      "c. Airplanes taking off and landing on a runway\n",
      "d. A bank teller\n",
      "Be sure to state any assumptions that you make and provide any probabilistic data that must be considered as part of\n",
      "the scenario.\n",
      "Answer: \n",
      "a. Cars lined up at a car wash: \n",
      "Question: If the car wash is by number and your number is 5 and the first of you is 16, what will you do to get\n",
      "the first line?\n",
      "Simulation: All you have to do is apply shell sort in this, tell the person who owned number 16 car to go to the back\n",
      "because the car wash is by number.\n",
      "b. Customers at a grocery store check-out: \n",
      "Question: You're about to check-out in the grocery store and the sign says by number it means lowest to highest \n",
      "number and your number is 3 and the person in front of is 14, what will you do? \n",
      "Simulation: Ace tells to the person in front that to check-out is that you must follow the by number rule in the\n",
      "grocery store. In this scenario, it shows that it uses shell sort.\n",
      "c. Airplanes taking off and landing on a runway: \n",
      "Question: Use the situation to create a scenario and identify what sort is used.\n",
      "Simulation: Ace board a plane from NYC and land in Japan to become an animator. The sort used in the scenario is\n",
      "insertion sort.\n",
      "d. A bank teller: \n",
      "Question: Use the situation to create a scenario and identify what sort is used.\n",
      "Simulation: Ace is bank teller and he handles the customer's money because it is his reponsibilty. A customer is\n",
      "about to withdraw some money when another person what to be first even his number is not called yet and Ace tells\n",
      "the customer to wait until his number is called. The sort used in the scenario is shell sort.\n"
     ]
    }
   ],
   "source": [
    "print(\"7. Consider a real life situation. Formulate a question and then design a simulation that can help to answer it.\")\n",
    "print(\"Possible situations include:\")\n",
    "print(\"a. Cars lined up at a car wash\")\n",
    "print(\"b. Customers at a grocery store check-out\")\n",
    "print(\"c. Airplanes taking off and landing on a runway\")\n",
    "print(\"d. A bank teller\")\n",
    "print(\"Be sure to state any assumptions that you make and provide any probabilistic data that must be considered as part of\")\n",
    "print(\"the scenario.\")\n",
    "\n",
    "print(\"Answer: \")     \n",
    "print(\"a. Cars lined up at a car wash: \")\n",
    "print(\"Question: If the car wash is by number and your number is 5 and the first of you is 16, what will you do to get\")\n",
    "print(\"the first line?\")\n",
    "print(\"Simulation: All you have to do is apply shell sort in this, tell the person who owned number 16 car to go to the back\")\n",
    "print(\"because the car wash is by number.\")\n",
    "\n",
    "print(\"b. Customers at a grocery store check-out: \")\n",
    "print(\"Question: You're about to check-out in the grocery store and the sign says by number it means lowest to highest \")\n",
    "print(\"number and your number is 3 and the person in front of is 14, what will you do? \")\n",
    "print(\"Simulation: Ace tells to the person in front that to check-out is that you must follow the by number rule in the\")\n",
    "print(\"grocery store. In this scenario, it shows that it uses shell sort.\")\n",
    "\n",
    "print(\"c. Airplanes taking off and landing on a runway: \")\n",
    "print(\"Question: Use the situation to create a scenario and identify what sort is used.\")\n",
    "print(\"Simulation: Ace board a plane from NYC and land in Japan to become an animator. The sort used in the scenario is\")\n",
    "print(\"insertion sort.\")\n",
    "\n",
    "print(\"d. A bank teller: \")\n",
    "print(\"Question: Use the situation to create a scenario and identify what sort is used.\")\n",
    "print(\"Simulation: Ace is bank teller and he handles the customer's money because it is his reponsibilty. A customer is\")\n",
    "print(\"about to withdraw some money when another person what to be first even his number is not called yet and Ace tells\")\n",
    "print(\"the customer to wait until his number is called. The sort used in the scenario is shell sort.\")"
   ]
  },
  {
   "cell_type": "code",
   "execution_count": 23,
   "id": "manual-outreach",
   "metadata": {},
   "outputs": [
    {
     "name": "stdout",
     "output_type": "stream",
     "text": [
      "8. Implement a queue using linked lists.\n",
      "Answer: \n"
     ]
    }
   ],
   "source": [
    "print(\"8. Implement a queue using linked lists.\")\n",
    "\n",
    "print(\"Answer: \")\n",
    "\n",
    "class Queue:\n",
    "    def __init__(self):\n",
    "        self.front = None\n",
    "        self.back = None\n",
    "        self.P = 0\n",
    "        \n",
    "    def enqueue(self, data):\n",
    "        temp = Node(data)\n",
    "        if self.front is None:\n",
    "            self.front = temp\n",
    "            self.back = self.front\n",
    "        else:\n",
    "            self.back.set_next(temp)\n",
    "            self.back = self.back.get_next()\n",
    "        self.P += 1\n",
    "        \n",
    "    def dequeue(self):\n",
    "        if self.Empty():\n",
    "            print(\"Your Queue Is Empty.\")\n",
    "            return None\n",
    "        temp = self.front\n",
    "        if self.front.get_next() is None:\n",
    "            self.front = None\n",
    "            self.back = None\n",
    "        else:\n",
    "            self.front = self.front.get_next()\n",
    "        self.P -= 1\n",
    "        return temp\n",
    "    \n",
    "    def qrint(self):\n",
    "        if not self.Empty():\n",
    "            node = self.front\n",
    "            while not node is None:\n",
    "                print(node.data, end = \"->\")\n",
    "                node = node.get_next()\n",
    "            print(\"null\")\n",
    "        else:\n",
    "            print(\"Your Queue Is Empty.\")\n",
    "            \n",
    "    def Empty(self):\n",
    "        return self.P == 0\n",
    "    \n",
    "    def size(self):\n",
    "        return self.P\n",
    "        \n",
    "        "
   ]
  },
  {
   "cell_type": "code",
   "execution_count": 3,
   "id": "appreciated-kuwait",
   "metadata": {},
   "outputs": [
    {
     "name": "stdout",
     "output_type": "stream",
     "text": [
      "9. Write a recursive function to compute the factorial of a number.\n",
      "Answer: \n",
      "The factorial of 10 is 3628800\n"
     ]
    }
   ],
   "source": [
    "print(\"9. Write a recursive function to compute the factorial of a number.\")\n",
    "\n",
    "print(\"Answer: \")\n",
    "def recursion_factorial(n):\n",
    "    if n == 1:\n",
    "        return n\n",
    "    else:\n",
    "        return n * recursion_factorial(n-1)\n",
    "    \n",
    "num = 10\n",
    "\n",
    "if num < 0:\n",
    "    print(\"I apologize, the factorial doesnot exist for negative numbers.\")\n",
    "elif num == 0:\n",
    "    print(\"The factorial of 0 is 1.\")\n",
    "else:\n",
    "    print(\"The factorial of\", num, \"is\", recursion_factorial(num))"
   ]
  },
  {
   "cell_type": "code",
   "execution_count": null,
   "id": "agricultural-testimony",
   "metadata": {},
   "outputs": [],
   "source": [
    "print(\"10. Set up a random experiment to test the difference between a sequential search and a binary search on\")\n",
    "print(\"a list of integers.\")\n",
    "\n",
    "print(\"Answer: \")"
   ]
  },
  {
   "cell_type": "code",
   "execution_count": null,
   "id": "legendary-hollow",
   "metadata": {},
   "outputs": [],
   "source": [
    "print(\"11. Suppose you are a computer scientist/art thief who has broken into a major art gallery. All you have with\")\n",
    "print(\"you to haul out your stolen art is your knapsack which only holds W pounds of art, but for every piece of art you\")\n",
    "print(\"know its value and its weight. Write a dynamic programming function to help you maximize your profit. Here is a sample\")\n",
    "print(\" problem for you to use to get started: Suppose your knapsack can hold a total weight of 20.\")\n",
    "print(\"You have 5 items as follows:\")\n",
    "print(\"Item: 1, 2, 3, 4, 5\")\n",
    "print(\"Weight: 2, 3, 4, 5, 9\")\n",
    "print(\"Value: 3, 4, 8, 8, 10\")\n",
    "\n",
    "print(\"Answer: \")   "
   ]
  }
 ],
 "metadata": {
  "kernelspec": {
   "display_name": "Python 3",
   "language": "python",
   "name": "python3"
  },
  "language_info": {
   "codemirror_mode": {
    "name": "ipython",
    "version": 3
   },
   "file_extension": ".py",
   "mimetype": "text/x-python",
   "name": "python",
   "nbconvert_exporter": "python",
   "pygments_lexer": "ipython3",
   "version": "3.9.2"
  }
 },
 "nbformat": 4,
 "nbformat_minor": 5
}
