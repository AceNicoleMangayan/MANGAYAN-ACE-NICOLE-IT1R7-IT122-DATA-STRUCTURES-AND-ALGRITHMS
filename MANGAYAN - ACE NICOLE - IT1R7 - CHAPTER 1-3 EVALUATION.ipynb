{
 "cells": [
  {
   "cell_type": "code",
   "execution_count": 6,
   "id": "protecting-graphics",
   "metadata": {},
   "outputs": [
    {
     "name": "stdout",
     "output_type": "stream",
     "text": [
      "Discuss your learnings on Chapter 1  time-frame 8:00 - 30:35. Minimum of 200 characters\n",
      "Chapter 1 learnings are the following: \n",
      "I learn about the importance of the characteristics of Data Structure,\n",
      "the correctness, the time complexity and the space complexity.\n",
      "I also learn about the execution of time cases and there purposes on comparing various data structure\n",
      "like the Worst Case that takes a maximum time in a particular data structure and the Average Case that\n",
      "depicts the average executio time and the Best Case that depicts the least possible time of an operation.\n",
      "I also learn about the three common problems that application face nowadays. Data Search because if we\n",
      "dont know how a data is being structed then we dont know how a algorithm is correctly defined and Processor\n",
      "Speed because it will burn down our data structures if we dont use the characteristics of data structures\n",
      "and Multiple Request because of the fast servers fails while searching any data.\n",
      "I also learn about the Applications of Data Structures and Algorithms like Search, to search an item in\n",
      "a data structure, Sort, to sort items next is the Insert, Update and Delete. I also learn the Basic Terminology.\n",
      "Next I also learn the six Characteristics of Algorithms and the first one is Umambigous, which is used to\n",
      "make the algorithm clear and easy to understand. Second is Input and third is Output. Fourth is Finiteness\n",
      "which is used to terminate the algorithm after a finite number of steps. The fifth on is the Feasibilty\n",
      "which is easily to do with the available resources that found and last is Independent which also used\n",
      "in c programming, java and more. I also learn about writing an algorithm and its step by step process.\n"
     ]
    }
   ],
   "source": [
    "print(\"Discuss your learnings on Chapter 1  time-frame 8:00 - 30:35. Minimum of 200 characters\")\n",
    "\n",
    "print(\"Chapter 1 learnings are the following: \")\n",
    "print(\"I learn about the importance of the characteristics of Data Structure,\")\n",
    "print(\"the correctness, the time complexity and the space complexity.\")\n",
    "print(\"I also learn about the execution of time cases and there purposes on comparing various data structure\")\n",
    "print(\"like the Worst Case that takes a maximum time in a particular data structure and the Average Case that\")\n",
    "print(\"depicts the average executio time and the Best Case that depicts the least possible time of an operation.\")\n",
    "print(\"I also learn about the three common problems that application face nowadays. Data Search because if we\")\n",
    "print(\"dont know how a data is being structed then we dont know how a algorithm is correctly defined and Processor\")\n",
    "print(\"Speed because it will burn down our data structures if we dont use the characteristics of data structures\")\n",
    "print(\"and Multiple Request because of the fast servers fails while searching any data.\")\n",
    "print(\"I also learn about the Applications of Data Structures and Algorithms like Search, to search an item in\")\n",
    "print(\"a data structure, Sort, to sort items next is the Insert, Update and Delete. I also learn the Basic Terminology.\")\n",
    "print(\"Next I also learn the six Characteristics of Algorithms and the first one is Umambigous, which is used to\")\n",
    "print(\"make the algorithm clear and easy to understand. Second is Input and third is Output. Fourth is Finiteness\")\n",
    "print(\"which is used to terminate the algorithm after a finite number of steps. The fifth on is the Feasibilty\")\n",
    "print(\"which is easily to do with the available resources that found and last is Independent which also used\")\n",
    "print(\"in c programming, java and more. I also learn about writing an algorithm and its step by step process.\")"
   ]
  },
  {
   "cell_type": "code",
   "execution_count": 4,
   "id": "former-hostel",
   "metadata": {},
   "outputs": [
    {
     "name": "stdout",
     "output_type": "stream",
     "text": [
      "Discuss your learnings on Chapter 1  time-frame 35:00 - end. Minimum of 200 characters\n",
      "Chapter 1 learnings are the following: \n",
      "I learn more about the step by step example of how to make an algorithm and its process.\n",
      "I also learn the analysis of an algorithm and how to analyzed by using the two different stages\n",
      "in before and after implementation. The two diffrent stages are the Prior Analysis and Posterior\n",
      "Analysis. I also learned about their meanings like Prior Analysis is used in by algorithm measured\n",
      "by assuming that all other factors while Posterior Analysis is a selected algorithm that implemented\n",
      "by using a programming language. I also learn the Algorithm Complexity that is also needed on structuring\n",
      "data and it has two main factors, the Time Factor and the Space Factor, so the Time Factor is measured by\n",
      "counting the key operations while the Space Factor is by counting the maximum space required by the algorithm.\n",
      "I also learn the Space Complexity, basically the amount of space memory required to solve a problem. Even that\n",
      "it is very important on analyzing an algorithm, the main focus will be on the Time Complexity. At first I\n",
      "didn't quite understand but when I play the video again I slowly understand and sooner or later will master it.\n"
     ]
    }
   ],
   "source": [
    "print(\"Discuss your learnings on Chapter 1  time-frame 35:00 - end. Minimum of 200 characters\")\n",
    "print(\"Chapter 1 learnings are the following: \")\n",
    "print(\"I learn more about the step by step example of how to make an algorithm and its process.\")\n",
    "print(\"I also learn the analysis of an algorithm and how to analyzed by using the two different stages\")\n",
    "print(\"in before and after implementation. The two diffrent stages are the Prior Analysis and Posterior\")\n",
    "print(\"Analysis. I also learned about their meanings like Prior Analysis is used in by algorithm measured\")\n",
    "print(\"by assuming that all other factors while Posterior Analysis is a selected algorithm that implemented\")\n",
    "print(\"by using a programming language. I also learn the Algorithm Complexity that is also needed on structuring\")\n",
    "print(\"data and it has two main factors, the Time Factor and the Space Factor, so the Time Factor is measured by\")\n",
    "print(\"counting the key operations while the Space Factor is by counting the maximum space required by the algorithm.\")\n",
    "print(\"I also learn the Space Complexity, basically the amount of space memory required to solve a problem. Even that\")\n",
    "print(\"it is very important on analyzing an algorithm, the main focus will be on the Time Complexity. At first I\")\n",
    "print(\"didn't quite understand but when I play the video again I slowly understand and sooner or later will master it.\")"
   ]
  },
  {
   "cell_type": "code",
   "execution_count": 3,
   "id": "spread-matthew",
   "metadata": {},
   "outputs": [
    {
     "name": "stdout",
     "output_type": "stream",
     "text": [
      "Discuss your learnings on Chapter 2  time-frame 5:00 - 9:00. Minimum of 200 characters\n",
      "Chapter 2 learnings are the following\n",
      "in this chapter I learn about the definition of data and its characteristics. First is that the data\n",
      "should be Atomic so that the data should be easily to described in a single concept, second is that the\n",
      "data should be Traceable so that the is data is easily to be traced or found in some data element, third\n",
      "is Accurate so that the data should be easy to understand and lastly the data should be Clear and Concise\n",
      "because the data shoulf be clear and just like the accurate easy to understand.\n",
      "I also learn about the data object which is an object with a data around and also used for the program that I\n",
      "will constuct sooner or later. I also learn more about the Data Type which also in our Computer Programming\n",
      "subject and this data type has two different types: the Built in Data Type and the Derived Data Type.\n",
      "The Built in Data Type is the one who supports the language in a data type while the Derived Data Type is the\n",
      "one who implemented in one or the other and sometime while watching the video I lost my focus a little. I\n",
      "already learn the basic operations like tansversing, searching, insertion, deletion, sorting and merging\n",
      "but in caseb of missing something I awtvh the video about basic operation.\n"
     ]
    }
   ],
   "source": [
    "print(\"Discuss your learnings on Chapter 2  time-frame 5:00 - 9:00. Minimum of 200 characters\")\n",
    "\n",
    "print(\"Chapter 2 learnings are the following\")\n",
    "print(\"in this chapter I learn about the definition of data and its characteristics. First is that the data\")\n",
    "print(\"should be Atomic so that the data should be easily to described in a single concept, second is that the\")\n",
    "print(\"data should be Traceable so that the is data is easily to be traced or found in some data element, third\")\n",
    "print(\"is Accurate so that the data should be easy to understand and lastly the data should be Clear and Concise\")\n",
    "print(\"because the data shoulf be clear and just like the accurate easy to understand.\")\n",
    "print(\"I also learn about the data object which is an object with a data around and also used for the program that I\")\n",
    "print(\"will constuct sooner or later. I also learn more about the Data Type which also in our Computer Programming\")\n",
    "print(\"subject and this data type has two different types: the Built in Data Type and the Derived Data Type.\")\n",
    "print(\"The Built in Data Type is the one who supports the language in a data type while the Derived Data Type is the\")\n",
    "print(\"one who implemented in one or the other and sometime while watching the video I lost my focus a little. I\")\n",
    "print(\"already learn the basic operations like tansversing, searching, insertion, deletion, sorting and merging\")\n",
    "print(\"but in caseb of missing something I awtvh the video about basic operation.\")"
   ]
  },
  {
   "cell_type": "code",
   "execution_count": 2,
   "id": "opening-deadline",
   "metadata": {},
   "outputs": [
    {
     "name": "stdout",
     "output_type": "stream",
     "text": [
      "Discuss your learnings on Chapter 3  time-frame 3:00 - 18:00. Minimum of 200 characters\n",
      "Chapter 3 learnings are the following: \n",
      "I learn array on my other subject but I watch this video I learn more. And also learn more on how to\n",
      "execute using the basic operation like Transverse who will print the array one by one, Insertion is\n",
      "the one who will adds an element on a given value, next is the Deletion is the one who will delete an\n",
      "element on a given value, next is the Search is the one who search using the given value and lastly the\n",
      "Update is the one who will update an element on a given value. All of this are used in our Computer Programmng\n",
      "subject. I now understand who to input and how to execute a array program. While watching the video simply\n",
      "pratice it everything like applying all the basic operation and typecodes, sometimes it runs and sometimes\n",
      "not but I pratice it again and again until the time I master it.\n"
     ]
    }
   ],
   "source": [
    "print(\"Discuss your learnings on Chapter 3  time-frame 3:00 - 18:00. Minimum of 200 characters\")\n",
    "print(\"Chapter 3 learnings are the following: \")\n",
    "print(\"I learn array on my other subject but I watch this video I learn more. And also learn more on how to\")\n",
    "print(\"execute using the basic operation like Transverse who will print the array one by one, Insertion is\")\n",
    "print(\"the one who will adds an element on a given value, next is the Deletion is the one who will delete an\")\n",
    "print(\"element on a given value, next is the Search is the one who search using the given value and lastly the\")\n",
    "print(\"Update is the one who will update an element on a given value. All of this are used in our Computer Programmng\")\n",
    "print(\"subject. I now understand who to input and how to execute a array program. While watching the video simply\")\n",
    "print(\"pratice it everything like applying all the basic operation and typecodes, sometimes it runs and sometimes\")\n",
    "print(\"not but I pratice it again and again until the time I master it.\")"
   ]
  },
  {
   "cell_type": "code",
   "execution_count": 1,
   "id": "pediatric-occurrence",
   "metadata": {},
   "outputs": [
    {
     "name": "stdout",
     "output_type": "stream",
     "text": [
      "5\n",
      "10\n",
      "15\n",
      "20\n",
      "25\n",
      "35\n"
     ]
    }
   ],
   "source": [
    "from array import *\n",
    "arrayName = array('i', [5, 10, 15, 20, 25,])\n",
    "arrayName.insert(30, 35)\n",
    "for x in arrayName:\n",
    "    print(x)"
   ]
  },
  {
   "cell_type": "code",
   "execution_count": null,
   "id": "fossil-classics",
   "metadata": {},
   "outputs": [],
   "source": []
  }
 ],
 "metadata": {
  "kernelspec": {
   "display_name": "Python 3",
   "language": "python",
   "name": "python3"
  },
  "language_info": {
   "codemirror_mode": {
    "name": "ipython",
    "version": 3
   },
   "file_extension": ".py",
   "mimetype": "text/x-python",
   "name": "python",
   "nbconvert_exporter": "python",
   "pygments_lexer": "ipython3",
   "version": "3.9.2"
  }
 },
 "nbformat": 4,
 "nbformat_minor": 5
}
